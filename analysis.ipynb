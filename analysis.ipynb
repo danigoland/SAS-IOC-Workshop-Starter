{
 "cells": [
  {
   "cell_type": "code",
   "execution_count": 26,
   "metadata": {},
   "outputs": [
    {
     "name": "stderr",
     "output_type": "stream",
     "text": [
      "C:\\Users\\research\\PycharmProjects\\SAS-IOC-Workshop\\venv\\lib\\site-packages\\ipykernel_launcher.py:9: DeprecationWarning: This method will be removed in future versions.  Use 'parser.read_file()' instead.\n",
      "  if __name__ == '__main__':\n"
     ]
    }
   ],
   "source": [
    "import configparser as ConfigParser\n",
    "import json \n",
    "import re\n",
    "\n",
    "\n",
    "def load_patterns(fpath):\n",
    "\t\tconfig = ConfigParser.ConfigParser()\n",
    "\t\twith open(fpath) as f:\n",
    "\t\t\tconfig.readfp(f)\n",
    "\n",
    "\t\tfor ind_type in config.sections():\n",
    "\t\t\ttry:\n",
    "\t\t\t\tind_pattern = config.get(ind_type, 'pattern')\n",
    "\t\t\texcept:\n",
    "\t\t\t\tcontinue\n",
    "\n",
    "\t\t\tif ind_pattern:\n",
    "\t\t\t\tind_regex = re.compile(ind_pattern)\n",
    "\t\t\t\tpatterns[ind_type] = ind_regex\n",
    "                \n",
    "patterns = dict()\n",
    "\n",
    "load_patterns('patterns.ini')\n",
    "\n",
    "with open('new_tweets.json','r') as f:\n",
    "    tweets = json.load(f)\n",
    "    \n",
    "\n",
    "\n",
    "def extract_tweet(s):\n",
    "    t = s\n",
    "    urls = list(map(lambda x:dict(url=x['expanded_url'],start=x['indices'][0],end=x['indices'][1]),t['entities']['urls']))\n",
    "    mentions = list(map(lambda x:dict(screen_name=x['screen_name'],start=x['indices'][0],end=x['indices'][1]),t['entities']['user_mentions']))\n",
    "    hashtags = list(map(lambda x:dict(tag=x['text'],start=x['indices'][0],end=x['indices'][1]),t['entities']['hashtags']))\n",
    "    return dict(id=t['id'],text=t['text'], urls=urls,mentions=mentions,hashtags=hashtags,user=t['user'],retweet_count=t['retweet_count'],created_at=t['created_at'],likes=t['favorite_count'])\n",
    "    \n",
    "\n",
    "\n"
   ]
  },
  {
   "cell_type": "code",
   "execution_count": 27,
   "metadata": {},
   "outputs": [],
   "source": [
    "parsed_tweets = list(map(extract_tweet, tweets))"
   ]
  },
  {
   "cell_type": "code",
   "execution_count": 50,
   "metadata": {},
   "outputs": [
    {
     "name": "stdout",
     "output_type": "stream",
     "text": [
      "[{'matches': ['2b5c31a6048574f9b8a0769ed1d8af362c5b354be3a31e6a1ae31c24ac127008'], 'id': 1115272145502965760, 'tweet_id': 73131445, 'screen_name': 'DFICyber', 'mentions': [{'screen_name': 'malwrhunterteam', 'start': 3, 'end': 19}], 'text': 'RT @malwrhunterteam: Turkish Aurora offline ransomware sample: https://t.co/IYn77AV1Sz\\nExtension: .cryptoid\\nNote names:\\n@@_BENI_OKU_@@.txt…', 'url': [{'url': 'https://www.virustotal.com/en/file/2b5c31a6048574f9b8a0769ed1d8af362c5b354be3a31e6a1ae31c24ac127008/analysis/1554410364/', 'start': 63, 'end': 86}], 'hashtags': []}, {'matches': ['2b5c31a6048574f9b8a0769ed1d8af362c5b354be3a31e6a1ae31c24ac127008'], 'id': 1115266500812857344, 'tweet_id': 1351385155, 'screen_name': 'TheSicarioTR', 'mentions': [{'screen_name': 'malwrhunterteam', 'start': 3, 'end': 19}], 'text': 'RT @malwrhunterteam: Turkish Aurora offline ransomware sample: https://t.co/IYn77AV1Sz\\nExtension: .cryptoid\\nNote names:\\n@@_BENI_OKU_@@.txt…', 'url': [{'url': 'https://www.virustotal.com/en/file/2b5c31a6048574f9b8a0769ed1d8af362c5b354be3a31e6a1ae31c24ac127008/analysis/1554410364/', 'start': 63, 'end': 86}], 'hashtags': []}, {'matches': ['2b5c31a6048574f9b8a0769ed1d8af362c5b354be3a31e6a1ae31c24ac127008'], 'id': 1115265576148934656, 'tweet_id': 14326523, 'screen_name': 'wavellan', 'mentions': [{'screen_name': 'malwrhunterteam', 'start': 3, 'end': 19}], 'text': 'RT @malwrhunterteam: Turkish Aurora offline ransomware sample: https://t.co/IYn77AV1Sz\\nExtension: .cryptoid\\nNote names:\\n@@_BENI_OKU_@@.txt…', 'url': [{'url': 'https://www.virustotal.com/en/file/2b5c31a6048574f9b8a0769ed1d8af362c5b354be3a31e6a1ae31c24ac127008/analysis/1554410364/', 'start': 63, 'end': 86}], 'hashtags': []}, {'matches': ['2b5c31a6048574f9b8a0769ed1d8af362c5b354be3a31e6a1ae31c24ac127008'], 'id': 1115265223022317568, 'tweet_id': 2440832552, 'screen_name': 'demonslay335', 'mentions': [{'screen_name': 'malwrhunterteam', 'start': 3, 'end': 19}], 'text': 'RT @malwrhunterteam: Turkish Aurora offline ransomware sample: https://t.co/IYn77AV1Sz\\nExtension: .cryptoid\\nNote names:\\n@@_BENI_OKU_@@.txt…', 'url': [{'url': 'https://www.virustotal.com/en/file/2b5c31a6048574f9b8a0769ed1d8af362c5b354be3a31e6a1ae31c24ac127008/analysis/1554410364/', 'start': 63, 'end': 86}], 'hashtags': []}, {'matches': ['b9efe2ec691862ff8ec3d1c55c7fcaa928c271643334065ec896b7711ebbc53f'], 'id': 1115258738368294913, 'tweet_id': 296167523, 'screen_name': 'Artilllerie', 'mentions': [], 'text': '#Tofsee\\n&gt; Medium detected payload (29/70):\\nhttps://t.co/PlEsmUtXzh\\n&gt; Unknown before / Uploaded today (but not neces… https://t.co/NdeAWI4D7i', 'url': [{'url': 'https://www.virustotal.com/#/file/b9efe2ec691862ff8ec3d1c55c7fcaa928c271643334065ec896b7711ebbc53f', 'start': 46, 'end': 69}, {'url': 'https://twitter.com/i/web/status/1115258738368294913', 'start': 123, 'end': 146}], 'hashtags': ['Tofsee']}, {'matches': ['2b5c31a6048574f9b8a0769ed1d8af362c5b354be3a31e6a1ae31c24ac127008'], 'id': 1115258601000636417, 'tweet_id': 863454752, 'screen_name': 'HarunGlec', 'mentions': [{'screen_name': 'malwrhunterteam', 'start': 3, 'end': 19}], 'text': 'RT @malwrhunterteam: Turkish Aurora offline ransomware sample: https://t.co/IYn77AV1Sz\\nExtension: .cryptoid\\nNote names:\\n@@_BENI_OKU_@@.txt…', 'url': [{'url': 'https://www.virustotal.com/en/file/2b5c31a6048574f9b8a0769ed1d8af362c5b354be3a31e6a1ae31c24ac127008/analysis/1554410364/', 'start': 63, 'end': 86}], 'hashtags': []}, {'matches': ['406cc80b43698d329704704b9fe4e0948b8d4ab11315678884e36acb2109dfd6', 'SHA256'], 'id': 1115255505428123649, 'tweet_id': 1095271877411553280, 'screen_name': 'TrackerEmotet', 'mentions': [], 'text': 'Direct malware load on Botnet E2\\n406cc80b43698d329704704b9fe4e0948b8d4ab11315678884e36acb2109dfd6\\nVT : https://t.co/aKCsBiefcA\\n#emotet', 'url': [{'url': 'https://www.virustotal.com/#/file/406cc80b43698d329704704b9fe4e0948b8d4ab11315678884e36acb2109dfd6/detection', 'start': 103, 'end': 126}], 'hashtags': ['emotet']}, {'matches': ['406cc80b43698d329704704b9fe4e0948b8d4ab11315678884e36acb2109dfd6', 'SHA256'], 'id': 1115255505386131456, 'tweet_id': 1095271877411553280, 'screen_name': 'TrackerEmotet', 'mentions': [], 'text': 'New spam module on Botnet E2\\n406cc80b43698d329704704b9fe4e0948b8d4ab11315678884e36acb2109dfd6\\nVT : https://t.co/aKCsBiefcA\\n#emotet', 'url': [{'url': 'https://www.virustotal.com/#/file/406cc80b43698d329704704b9fe4e0948b8d4ab11315678884e36acb2109dfd6/detection', 'start': 99, 'end': 122}], 'hashtags': ['emotet']}, {'matches': ['96d78b251ae6da9a2a80262792c01b80', 'd922ee530d7cd49ed95a810d1489fff5'], 'id': 1115285717872259073, 'tweet_id': 43171436, 'screen_name': 'ubersec', 'mentions': [{'screen_name': 'breakingmalware', 'start': 3, 'end': 19}], 'text': 'RT @breakingmalware: Dropper Sample: https://t.co/H6ZJhdOkUt\\n\\nLinks in VB:\\nhttps://t.co/lU3IO7wz7h\\n\\nhttps://t.co/bJsDKZaTuz', 'url': [{'url': 'https://app.any.run/tasks/f19b5e82-6142-4f46-a9a2-86b25e1de5af', 'start': 37, 'end': 60}, {'url': 'https://beta.virusbay.io/sample/browse/96d78b251ae6da9a2a80262792c01b80', 'start': 75, 'end': 98}, {'url': 'https://beta.virusbay.io/sample/browse/d922ee530d7cd49ed95a810d1489fff5', 'start': 100, 'end': 123}], 'hashtags': []}, {'matches': ['96986b18a8470f4020ea78df0b3db7d4'], 'id': 1115200364163338241, 'tweet_id': 127933237, 'screen_name': 'asfakian', 'mentions': [{'screen_name': 'IdoNaor1', 'start': 3, 'end': 12}, {'screen_name': 'virusbay_io', 'start': 26, 'end': 38}], 'text': 'RT @IdoNaor1: Uploaded to @virusbay_io:  A new #Lazarus sample targeting Israeli gov agencies.\\nhttps://t.co/NWhKt6pdhn', 'url': [{'url': 'https://beta.virusbay.io/sample/browse/96986b18a8470f4020ea78df0b3db7d4', 'start': 95, 'end': 118}], 'hashtags': ['Lazarus']}, {'matches': ['96d78b251ae6da9a2a80262792c01b80', 'd922ee530d7cd49ed95a810d1489fff5'], 'id': 1115174601493848064, 'tweet_id': 383807449, 'screen_name': 'shipcod3', 'mentions': [{'screen_name': 'breakingmalware', 'start': 3, 'end': 19}], 'text': 'RT @breakingmalware: Dropper Sample: https://t.co/H6ZJhdOkUt\\n\\nLinks in VB:\\nhttps://t.co/lU3IO7wz7h\\n\\nhttps://t.co/bJsDKZaTuz', 'url': [{'url': 'https://app.any.run/tasks/f19b5e82-6142-4f46-a9a2-86b25e1de5af', 'start': 37, 'end': 60}, {'url': 'https://beta.virusbay.io/sample/browse/96d78b251ae6da9a2a80262792c01b80', 'start': 75, 'end': 98}, {'url': 'https://beta.virusbay.io/sample/browse/d922ee530d7cd49ed95a810d1489fff5', 'start': 100, 'end': 123}], 'hashtags': []}, {'matches': ['96d78b251ae6da9a2a80262792c01b80', 'd922ee530d7cd49ed95a810d1489fff5'], 'id': 1115174261117739008, 'tweet_id': 923656996741615617, 'screen_name': 'virusbay_io', 'mentions': [{'screen_name': 'breakingmalware', 'start': 3, 'end': 19}], 'text': 'RT @breakingmalware: Dropper Sample: https://t.co/H6ZJhdOkUt\\n\\nLinks in VB:\\nhttps://t.co/lU3IO7wz7h\\n\\nhttps://t.co/bJsDKZaTuz', 'url': [{'url': 'https://app.any.run/tasks/f19b5e82-6142-4f46-a9a2-86b25e1de5af', 'start': 37, 'end': 60}, {'url': 'https://beta.virusbay.io/sample/browse/96d78b251ae6da9a2a80262792c01b80', 'start': 75, 'end': 98}, {'url': 'https://beta.virusbay.io/sample/browse/d922ee530d7cd49ed95a810d1489fff5', 'start': 100, 'end': 123}], 'hashtags': []}, {'matches': ['96d78b251ae6da9a2a80262792c01b80', 'd922ee530d7cd49ed95a810d1489fff5'], 'id': 1115173455345799168, 'tweet_id': 412870611, 'screen_name': 'IdoNaor1', 'mentions': [{'screen_name': 'breakingmalware', 'start': 3, 'end': 19}], 'text': 'RT @breakingmalware: Dropper Sample: https://t.co/H6ZJhdOkUt\\n\\nLinks in VB:\\nhttps://t.co/lU3IO7wz7h\\n\\nhttps://t.co/bJsDKZaTuz', 'url': [{'url': 'https://app.any.run/tasks/f19b5e82-6142-4f46-a9a2-86b25e1de5af', 'start': 37, 'end': 60}, {'url': 'https://beta.virusbay.io/sample/browse/96d78b251ae6da9a2a80262792c01b80', 'start': 75, 'end': 98}, {'url': 'https://beta.virusbay.io/sample/browse/d922ee530d7cd49ed95a810d1489fff5', 'start': 100, 'end': 123}], 'hashtags': []}, {'matches': ['96d78b251ae6da9a2a80262792c01b80', 'd922ee530d7cd49ed95a810d1489fff5'], 'id': 1115165738971664384, 'tweet_id': 761122056763092992, 'screen_name': 'ArielKoren_', 'mentions': [{'screen_name': 'breakingmalware', 'start': 3, 'end': 19}], 'text': 'RT @breakingmalware: Dropper Sample: https://t.co/H6ZJhdOkUt\\n\\nLinks in VB:\\nhttps://t.co/lU3IO7wz7h\\n\\nhttps://t.co/bJsDKZaTuz', 'url': [{'url': 'https://app.any.run/tasks/f19b5e82-6142-4f46-a9a2-86b25e1de5af', 'start': 37, 'end': 60}, {'url': 'https://beta.virusbay.io/sample/browse/96d78b251ae6da9a2a80262792c01b80', 'start': 75, 'end': 98}, {'url': 'https://beta.virusbay.io/sample/browse/d922ee530d7cd49ed95a810d1489fff5', 'start': 100, 'end': 123}], 'hashtags': []}, {'matches': ['96d78b251ae6da9a2a80262792c01b80', 'd922ee530d7cd49ed95a810d1489fff5'], 'id': 1115135592373739521, 'tweet_id': 505492511, 'screen_name': 'sathishdatwit', 'mentions': [{'screen_name': 'breakingmalware', 'start': 3, 'end': 19}], 'text': 'RT @breakingmalware: Dropper Sample: https://t.co/H6ZJhdOkUt\\n\\nLinks in VB:\\nhttps://t.co/lU3IO7wz7h\\n\\nhttps://t.co/bJsDKZaTuz', 'url': [{'url': 'https://app.any.run/tasks/f19b5e82-6142-4f46-a9a2-86b25e1de5af', 'start': 37, 'end': 60}, {'url': 'https://beta.virusbay.io/sample/browse/96d78b251ae6da9a2a80262792c01b80', 'start': 75, 'end': 98}, {'url': 'https://beta.virusbay.io/sample/browse/d922ee530d7cd49ed95a810d1489fff5', 'start': 100, 'end': 123}], 'hashtags': []}, {'matches': ['96d78b251ae6da9a2a80262792c01b80', 'd922ee530d7cd49ed95a810d1489fff5'], 'id': 1115124151189110785, 'tweet_id': 1108831771678793728, 'screen_name': 'breakingmalware', 'mentions': [], 'text': 'Dropper Sample: https://t.co/H6ZJhdOkUt\\n\\nLinks in VB:\\nhttps://t.co/lU3IO7wz7h\\n\\nhttps://t.co/bJsDKZaTuz', 'url': [{'url': 'https://app.any.run/tasks/f19b5e82-6142-4f46-a9a2-86b25e1de5af', 'start': 16, 'end': 39}, {'url': 'https://beta.virusbay.io/sample/browse/96d78b251ae6da9a2a80262792c01b80', 'start': 54, 'end': 77}, {'url': 'https://beta.virusbay.io/sample/browse/d922ee530d7cd49ed95a810d1489fff5', 'start': 79, 'end': 102}], 'hashtags': []}, {'matches': ['3acd274d4cc553a9ab8e3f6aea7467594c3cc0ffdea5fe60d7601af6430d552d'], 'id': 1114913684713664512, 'tweet_id': 1105640133057961985, 'screen_name': 'InfosecRedPanda', 'mentions': [{'screen_name': 'nao_sec', 'start': 3, 'end': 11}], 'text': 'RT @nao_sec: #HookAds? -&gt; #RigEK -&gt; Unknown Malware...\\nhttps://t.co/EVw0n1IfHw https://t.co/5r1ix1qtff', 'url': [{'url': 'https://www.hybrid-analysis.com/sample/3acd274d4cc553a9ab8e3f6aea7467594c3cc0ffdea5fe60d7601af6430d552d', 'start': 61, 'end': 84}], 'hashtags': ['HookAds', 'RigEK']}, {'matches': ['3acd274d4cc553a9ab8e3f6aea7467594c3cc0ffdea5fe60d7601af6430d552d'], 'id': 1114912765414727683, 'tweet_id': 850551473624797184, 'screen_name': 'baberpervez2', 'mentions': [{'screen_name': 'nao_sec', 'start': 3, 'end': 11}], 'text': 'RT @nao_sec: #HookAds? -&gt; #RigEK -&gt; Unknown Malware...\\nhttps://t.co/EVw0n1IfHw https://t.co/5r1ix1qtff', 'url': [{'url': 'https://www.hybrid-analysis.com/sample/3acd274d4cc553a9ab8e3f6aea7467594c3cc0ffdea5fe60d7601af6430d552d', 'start': 61, 'end': 84}], 'hashtags': ['HookAds', 'RigEK']}]\n"
     ]
    }
   ],
   "source": [
    "vt = []\n",
    "for n in parsed_tweets:\n",
    "    matches = []\n",
    "    for j in n['hashtags']:\n",
    "        for k,v in patterns.items():\n",
    "            if v.search(j['tag']):\n",
    "                matches.append(k)\n",
    "\n",
    "    for j in n['urls']:\n",
    "        #if '/file/' in j['url'].lower() or '/sample/' in j['url'].lower() or 'joe' in j['url'].lower():\n",
    "        if (patterns['MD5'].search(j['url']) or patterns['SHA1'].search(j['url']) or patterns['SHA256'].search(j['url'])):\n",
    "            hashes = ['MD5','SHA1','SHA256']\n",
    "            for hash in hashes:\n",
    "                if patterns[hash].findall(j['url']):\n",
    "                    matches.append(''.join(patterns[hash].findall(j['url'])))\n",
    "    if len(matches) > 0:\n",
    "        for k,v in patterns.items():\n",
    "                if v.search(n['text']) :\n",
    "                    matches.append(k)     \n",
    "        vt.append(dict(matches=matches,id=n['id'],tweet_id=n['user']['id'],screen_name=n['user']['screen_name'],mentions=n['mentions'],text=n['text'],url=n['urls'],hashtags=list(map(lambda x: x['tag'],n['hashtags']))))\n",
    "print(vt)"
   ]
  },
  {
   "cell_type": "code",
   "execution_count": null,
   "metadata": {},
   "outputs": [],
   "source": []
  }
 ],
 "metadata": {
  "kernelspec": {
   "display_name": "Python 3",
   "language": "python",
   "name": "python3"
  },
  "language_info": {
   "codemirror_mode": {
    "name": "ipython",
    "version": 3
   },
   "file_extension": ".py",
   "mimetype": "text/x-python",
   "name": "python",
   "nbconvert_exporter": "python",
   "pygments_lexer": "ipython3",
   "version": "3.6.5"
  }
 },
 "nbformat": 4,
 "nbformat_minor": 1
}
