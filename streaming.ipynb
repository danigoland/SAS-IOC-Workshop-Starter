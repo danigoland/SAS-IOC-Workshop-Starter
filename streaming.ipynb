{
 "cells": [
  {
   "cell_type": "code",
   "execution_count": 1,
   "metadata": {},
   "outputs": [],
   "source": [
    "import tweepy\n",
    "import os"
   ]
  },
  {
   "cell_type": "code",
   "execution_count": 34,
   "metadata": {},
   "outputs": [],
   "source": [
    "auth = tweepy.AppAuthHandler(os.environ.get('TWITTER_API_KEY'), os.environ.get('TWITTER_API_SECRET'))\n",
    "# Construct the API instance\n",
    "api = tweepy.API(auth)"
   ]
  },
  {
   "cell_type": "markdown",
   "metadata": {},
   "source": [
    "## Creating a listener that will receive tweets"
   ]
  },
  {
   "cell_type": "code",
   "execution_count": 30,
   "metadata": {},
   "outputs": [],
   "source": [
    "class KeywordsListener(tweepy.StreamListener):\n",
    "    def __init__(self):\n",
    "        super(KeywordsListener, self).__init__()\n",
    "        self.num_tweets = 0\n",
    "        self.tweets = []\n",
    "        with open('streaming_keywords.json', 'w') as f:\n",
    "            json.dump([],f)\n",
    "        \n",
    "    def on_status(self, status):\n",
    "        self.tweets.append(status._json)\n",
    "        self.num_tweets += 1\n",
    "        if self.num_tweets % 10:\n",
    "            with open('streaming_keywords.json', 'r+') as f:\n",
    "                saved = json.load(f)\n",
    "                saved.extend(self.tweets)\n",
    "            \n",
    "            self.num_tweets = 0\n",
    "            self.tweets = []\n",
    "    def on_error(self, status):\n",
    "        print(status)\n",
    "        \n",
    "        \n",
    "        \n",
    "class UserTimelineListener(tweepy.StreamListener):\n",
    "    def __init__(self):\n",
    "        super(UserTimelineListener, self).__init__()\n",
    "        self.num_tweets = 0\n",
    "        self.tweets = []\n",
    "        with open('streaming_timelines.json', 'w') as f:\n",
    "            json.dump([],f)\n",
    "        \n",
    "    def on_status(self, status):\n",
    "        self.tweets.append(status._json)\n",
    "        self.num_tweets += 1\n",
    "        if self.num_tweets % 10:\n",
    "            with open('streaming_timelines.json', 'r+') as f:\n",
    "                saved = json.load(f)\n",
    "                saved.extend(self.tweets)\n",
    "            \n",
    "            self.num_tweets = 0\n",
    "            self.tweets = []\n",
    "    def on_error(self, status):\n",
    "        print(status)"
   ]
  },
  {
   "cell_type": "markdown",
   "metadata": {},
   "source": [
    "## Creating the stream"
   ]
  },
  {
   "cell_type": "code",
   "execution_count": 31,
   "metadata": {},
   "outputs": [],
   "source": [
    "keywords_listener = KeywordsListener()\n",
    "keywords_stream = tweepy.Stream(auth = api.auth, listener=keywords_listener)"
   ]
  },
  {
   "cell_type": "markdown",
   "metadata": {},
   "source": [
    "## Tracking keywords and urls"
   ]
  },
  {
   "cell_type": "code",
   "execution_count": null,
   "metadata": {},
   "outputs": [],
   "source": [
    "keywords_stream.filter(track=['virustotal com', 'virusbay com', \"TheSAS2019\"])\n"
   ]
  },
  {
   "cell_type": "markdown",
   "metadata": {},
   "source": [
    "## Tracking Users' Tweets"
   ]
  },
  {
   "cell_type": "code",
   "execution_count": 38,
   "metadata": {},
   "outputs": [],
   "source": [
    "import requests\n",
    "import re\n",
    "\n",
    "twitter_id_re = re.compile(r'<p>([0-9]{18})</p>')"
   ]
  },
  {
   "cell_type": "code",
   "execution_count": 39,
   "metadata": {},
   "outputs": [],
   "source": [
    "username = 'virusbay_io'"
   ]
  },
  {
   "cell_type": "code",
   "execution_count": 40,
   "metadata": {},
   "outputs": [],
   "source": [
    "r = requests.get(f'http://gettwitterid.com/?user_name={username}')"
   ]
  },
  {
   "cell_type": "code",
   "execution_count": 41,
   "metadata": {},
   "outputs": [],
   "source": [
    "twitter_id = twitter_id_re.findall(r.content.decode('utf-8'))[0]"
   ]
  },
  {
   "cell_type": "code",
   "execution_count": 42,
   "metadata": {},
   "outputs": [],
   "source": [
    "timeline_listener = UserTimelineListener()\n",
    "timeline_stream = tweepy.Stream(auth = api.auth, listener=timeline_listener)"
   ]
  },
  {
   "cell_type": "code",
   "execution_count": null,
   "metadata": {},
   "outputs": [],
   "source": [
    "timeline_stream.filter(follow=[twitter_id])"
   ]
  },
  {
   "cell_type": "code",
   "execution_count": null,
   "metadata": {},
   "outputs": [],
   "source": []
  }
 ],
 "metadata": {
  "kernelspec": {
   "display_name": "Python 3",
   "language": "python",
   "name": "python3"
  },
  "language_info": {
   "codemirror_mode": {
    "name": "ipython",
    "version": 3
   },
   "file_extension": ".py",
   "mimetype": "text/x-python",
   "name": "python",
   "nbconvert_exporter": "python",
   "pygments_lexer": "ipython3",
   "version": "3.7.1"
  }
 },
 "nbformat": 4,
 "nbformat_minor": 2
}
